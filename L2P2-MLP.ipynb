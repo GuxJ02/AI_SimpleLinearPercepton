{
 "cells": [
  {
   "cell_type": "code",
   "execution_count": 1,
   "id": "b2892f2b-6c82-4f62-acef-98e80adec299",
   "metadata": {},
   "outputs": [],
   "source": [
    "import numpy as np\n",
    "from matplotlib import pyplot as plt\n",
    "from matplotlib import patches as patches\n",
    "from keras.models import Sequential\n",
    "from keras.layers import Dense\n",
    "\n",
    "%matplotlib inline"
   ]
  },
  {
   "cell_type": "code",
   "execution_count": 2,
   "id": "c2b2d96c-13a0-4bd1-99b0-38400e4fc2c5",
   "metadata": {},
   "outputs": [
    {
     "name": "stdout",
     "output_type": "stream",
     "text": [
      "1/1 [==============================] - 0s 328ms/step - loss: 1.4707e-05 - accuracy: 1.0000\n",
      "Loss:  1.470710958528798e-05\n",
      "Accuracy:  1.0\n"
     ]
    }
   ],
   "source": [
    "# Define los datos de entrenamiento\n",
    "X_train = np.array([[0,0],[0,1],[1,0],[1,1]])\n",
    "y_train = np.array([0,1,1,0])\n",
    "\n",
    "# Define la arquitectura de la red neuronal\n",
    "model = Sequential()\n",
    "model.add(Dense(5, input_dim=2, activation='relu'))\n",
    "model.add(Dense(1, activation='sigmoid'))\n",
    "\n",
    "# Compila el modelo\n",
    "model.compile(loss='mean_squared_error', optimizer='adam', metrics=['accuracy'])\n",
    "\n",
    "# Entrena el modelo\n",
    "model.fit(X_train, y_train, epochs=10000, verbose=0)\n",
    "\n",
    "# Evalua el modelo\n",
    "X_test = np.array([[0,0],[0,1],[1,0],[1,1]])\n",
    "y_test = np.array([0,1,1,0])\n",
    "loss, accuracy = model.evaluate(X_test, y_test)\n",
    "print(\"Loss: \", loss)\n",
    "print(\"Accuracy: \", accuracy)"
   ]
  },
  {
   "cell_type": "code",
   "execution_count": null,
   "id": "b011d08e-9e42-4dbc-87c4-996688c2e97f",
   "metadata": {},
   "outputs": [],
   "source": []
  }
 ],
 "metadata": {
  "kernelspec": {
   "display_name": "Python 3 (ipykernel)",
   "language": "python",
   "name": "python3"
  },
  "language_info": {
   "codemirror_mode": {
    "name": "ipython",
    "version": 3
   },
   "file_extension": ".py",
   "mimetype": "text/x-python",
   "name": "python",
   "nbconvert_exporter": "python",
   "pygments_lexer": "ipython3",
   "version": "3.9.13"
  }
 },
 "nbformat": 4,
 "nbformat_minor": 5
}
