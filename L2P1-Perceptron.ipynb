{
 "cells": [
  {
   "cell_type": "code",
   "execution_count": 1,
   "id": "4b7907a6-dd1d-4285-8063-fa19ccf7f66a",
   "metadata": {},
   "outputs": [],
   "source": [
    "import numpy as np\n",
    "import csv\n",
    "from matplotlib import pyplot as plt\n",
    "from matplotlib import patches as patches\n",
    "\n",
    "%matplotlib inline"
   ]
  },
  {
   "cell_type": "code",
   "execution_count": 2,
   "id": "bef56e7f-9f53-4e1a-bf29-115dda29e4a4",
   "metadata": {},
   "outputs": [],
   "source": [
    "# Definimos la matriz de pesos para AND\n",
    "w = 2 * np.random.random(2) - 1\n",
    "\n",
    "# Definimos la matriz de pesos para XOR\n",
    "w1 = 2 * np.random.random(2) - 1"
   ]
  },
  {
   "cell_type": "code",
   "execution_count": 3,
   "id": "87f6bf49-e8c0-4169-b585-52900cdd1d8a",
   "metadata": {},
   "outputs": [],
   "source": [
    "# Definimos el set de datos para AND\n",
    "x = [[0, 0], [0, 1], [1, 0], [1, 1]]\n",
    "y = [0, 0, 0, 1]\n",
    "\n",
    "# Definimos el set de datos para XOR\n",
    "x1 = [[0, 0], [0, 1], [1, 0], [1, 1]]\n",
    "y1 = [0, 1, 1, 0]"
   ]
  },
  {
   "cell_type": "code",
   "execution_count": 4,
   "id": "ceddef29-eaff-49b6-abf1-ba34471ab019",
   "metadata": {},
   "outputs": [],
   "source": [
    "def salidaPer(output):\n",
    "    if output >= 0.2:\n",
    "        salida = 1\n",
    "    elif output < 0.2:\n",
    "        salida = 0\n",
    "    return salida"
   ]
  },
  {
   "cell_type": "markdown",
   "id": "62937acc-f6f6-4b6a-9d02-c91ff305f487",
   "metadata": {},
   "source": [
    "Esta función nos da la salida del perceptrón a partir de la suma ponderada comparada con un umbral que en este caso es 0.2"
   ]
  },
  {
   "cell_type": "code",
   "execution_count": 5,
   "id": "ba6e30ad-52cd-4aca-b835-1dc3828c0936",
   "metadata": {},
   "outputs": [],
   "source": [
    "# Iterar hasta alcanzar un estado estable\n",
    "with open('L2P1-Perceptron.csv', mode='w', newline='') as archivo:\n",
    "    archivo.close()\n",
    "\n",
    "bias = 0.1\n",
    "csvFlag = 0\n",
    "salida = -1\n",
    "lr = 0.1\n",
    "stable = False\n",
    "iteration = 0\n",
    "while not stable:\n",
    "    stable = True\n",
    "    iteration += 1\n",
    "    error = 0.0\n",
    "    for i in range(len(x)):\n",
    "        # Calcular la salida del perceptrón\n",
    "        w1ini = w[0]\n",
    "        w2ini = w[1]\n",
    "        output = x[i][0] * w[0] + x[i][1] * w[1] - bias\n",
    "        salida = salidaPer(output)\n",
    "        err = y[i] - salida\n",
    "\n",
    "        if err != 0:\n",
    "            w[0] = w[0] + lr*err*x[i][0]\n",
    "            w[1] = w[1] + lr*err*x[i][1]\n",
    "            stable = False\n",
    "        with open('L2P1-Perceptron.csv', mode='a', newline='') as archivo:\n",
    "            writer = csv.writer(archivo)\n",
    "            if csvFlag == 0:\n",
    "                writer.writerow([\"Puerta\", \"Etapa\", \"Iteracion\", \"Peso 1 inicial\", \"Peso 2 inicial\", \"Salida\", \"Error\", \"Peso 1 final\", \"Peso 2 final\"])\n",
    "                csvFlag = 1\n",
    "            writer.writerow([\"Puerta AND\", iteration, i, w1ini, w2ini, salida, err, w[0], w[1]])\n",
    "            #writer.writerow([\"Iteracion: \", i])\n",
    "            #writer.writerow([\"Salida del perceptron: \", salida])\n",
    "            #writer.writerow([\"Error:\", err, \"\\n\"])\n",
    "            archivo.close()"
   ]
  },
  {
   "cell_type": "markdown",
   "id": "fbc54f36-2c91-441c-9b90-d77db1704664",
   "metadata": {},
   "source": [
    "Realizar el entrenamiento de la siguiente manera:\n",
    "Creamos un bucle del que no sale hasta que el perceptrón sea estable, o lo que es lo mismo, que para las 4 entradas de la salida correcta. Para ello, en el entrenamiento actualizamos los pesos a partir de la salida del perceptrón y del error.\n",
    "Cuando todos los errores sean cero, entonces saldrá del bucle y estará entrenado y clasificando correctamente."
   ]
  },
  {
   "cell_type": "code",
   "execution_count": 6,
   "id": "acc4054c-b863-4901-8459-dd88062708da",
   "metadata": {},
   "outputs": [
    {
     "name": "stdout",
     "output_type": "stream",
     "text": [
      "Salida para 0,0:  0\n",
      "Salida para 0,1:  0\n",
      "Salida para 1,0:  0\n",
      "Salida para 1,1:  1\n"
     ]
    }
   ],
   "source": [
    "xtrain = [[0, 0], [0, 1], [1, 0], [1, 1]]\n",
    "output = x[0][0] * w[0] + x[0][1] * w[1] - bias\n",
    "print(\"Salida para 0,0: \", salidaPer(output))\n",
    "output = x[1][0] * w[0] + x[1][1] * w[1] - bias\n",
    "print(\"Salida para 0,1: \", salidaPer(output))\n",
    "output = x[2][0] * w[0] + x[2][1] * w[1] - bias\n",
    "print(\"Salida para 1,0: \", salidaPer(output))\n",
    "output = x[3][0] * w[0] + x[3][1] * w[1] - bias\n",
    "print(\"Salida para 1,1: \", salidaPer(output))"
   ]
  },
  {
   "cell_type": "markdown",
   "id": "afb93af9-c959-4bc6-bf83-363daff1c212",
   "metadata": {},
   "source": [
    "Podemos ver que la salida, una vez entrenado el perceptrón y que haya hecho la clasificación, es correcta, ya que para cada par de entradas produce la salida correctamente."
   ]
  },
  {
   "cell_type": "code",
   "execution_count": 7,
   "id": "91c0ce13-325a-49b8-98ac-c28b79528d8d",
   "metadata": {},
   "outputs": [],
   "source": [
    "# Iterar hasta alcanzar un estado estable con la puerta XOR\n",
    "salida = -1\n",
    "lr = 0.1\n",
    "stable = False\n",
    "iteration = 0\n",
    "while iteration < 100:\n",
    "    stable = True\n",
    "    iteration += 1\n",
    "    error = 0.0\n",
    "    for i in range(len(x)):\n",
    "        # Calcular la salida del perceptrón\n",
    "        w1ini = w1[0]\n",
    "        w2ini = w1[1]\n",
    "        output = x1[i][0] * w1[0] + x1[i][1] * w1[1] - bias\n",
    "        salida = salidaPer(output)\n",
    "        err = y1[i] - salida\n",
    "\n",
    "        if err != 0:\n",
    "            w1[0] = w1[0] + lr*err*x1[i][0]\n",
    "            w1[1] = w1[1] + lr*err*x1[i][1]\n",
    "            stable = False\n",
    "        with open('L2P1-Perceptron.csv', mode='a', newline='') as archivo:\n",
    "            writer = csv.writer(archivo)\n",
    "            writer.writerow([\"Puerta XOR\", iteration, i, w1ini, w2ini, salida, err, w[0], w[1]])\n",
    "            #writer.writerow([\"Iteracion: \", i])\n",
    "            #writer.writerow([\"Salida del perceptron: \", salida])\n",
    "            #writer.writerow([\"Error:\", err, \"\\n\"])\n",
    "            archivo.close()"
   ]
  },
  {
   "cell_type": "markdown",
   "id": "6ce97cbb-b39a-4a6b-8c33-7b1801141be2",
   "metadata": {},
   "source": [
    "Hemos puesto 100 iteraciones, puesto que al no ser un problema linealmente separable, la ejecución de la función no pararía nunca."
   ]
  },
  {
   "cell_type": "code",
   "execution_count": 8,
   "id": "38014153-c2ce-48fd-a27c-879ed5a91ee4",
   "metadata": {},
   "outputs": [
    {
     "name": "stdout",
     "output_type": "stream",
     "text": [
      "Salida para 0,0:  0\n",
      "Salida para 0,1:  0\n",
      "Salida para 1,0:  0\n",
      "Salida para 1,1:  0\n"
     ]
    }
   ],
   "source": [
    "xtrain = [[0, 0], [0, 1], [1, 0], [1, 1]]\n",
    "output = x1[0][0] * w1[0] + x1[0][1] * w1[1] - bias\n",
    "print(\"Salida para 0,0: \", salidaPer(output))\n",
    "output = x1[1][0] * w1[0] + x1[1][1] * w1[1] - bias\n",
    "print(\"Salida para 0,1: \", salidaPer(output))\n",
    "output = x1[2][0] * w1[0] + x1[2][1] * w1[1] - bias\n",
    "print(\"Salida para 1,0: \", salidaPer(output))\n",
    "output = x1[3][0] * w1[0] + x1[3][1] * w1[1] - bias\n",
    "print(\"Salida para 1,1: \", salidaPer(output))"
   ]
  },
  {
   "cell_type": "markdown",
   "id": "7f374812-f95e-4f4d-bf89-1f0cfd0e4d55",
   "metadata": {},
   "source": [
    "Como podemos ver, las salidas no son correctas, ya que para poder clasificar correctamente la puerta XOR, necesitamos más que una recta. En concreto, necesitamos dos rectas, pero un solo perceptrón no puede realizarlas. Es por eso que no puede clasificar ni aprender, porque no es un problema linealmente separable."
   ]
  },
  {
   "cell_type": "code",
   "execution_count": null,
   "id": "6123ad3b-7e5c-4edd-bb2f-40f932e191bb",
   "metadata": {},
   "outputs": [],
   "source": []
  }
 ],
 "metadata": {
  "kernelspec": {
   "display_name": "Python 3 (ipykernel)",
   "language": "python",
   "name": "python3"
  },
  "language_info": {
   "codemirror_mode": {
    "name": "ipython",
    "version": 3
   },
   "file_extension": ".py",
   "mimetype": "text/x-python",
   "name": "python",
   "nbconvert_exporter": "python",
   "pygments_lexer": "ipython3",
   "version": "3.9.13"
  }
 },
 "nbformat": 4,
 "nbformat_minor": 5
}
